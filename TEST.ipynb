{
 "cells": [
  {
   "cell_type": "code",
   "execution_count": 4,
   "id": "e8013028",
   "metadata": {},
   "outputs": [
    {
     "data": {
      "text/plain": [
       "'core.settings'"
      ]
     },
     "execution_count": 4,
     "metadata": {},
     "output_type": "execute_result"
    }
   ],
   "source": [
    "import os\n",
    "\n",
    "# Definir entorn de Django\n",
    "os.environ.setdefault(\"DJANGO_SETTINGS_MODULE\", \"core.settings\")\n"
   ]
  },
  {
   "cell_type": "code",
   "execution_count": 2,
   "id": "55b34ec8",
   "metadata": {},
   "outputs": [
    {
     "name": "stdout",
     "output_type": "stream",
     "text": [
      "BASE_DIR: C:\\Python Projects\\Comunica AI Studio\n",
      "Ruta plantilles: C:\\Python Projects\\Comunica AI Studio\\app\\input\\templates\n",
      "Ruta imatges: C:\\Python Projects\\Comunica AI Studio\\app\\input\\images\n",
      "Fitxer imatges JSON: C:\\Python Projects\\Comunica AI Studio\\app\\input\\images.json\n",
      "Ruta de sortida HTML: C:\\Python Projects\\Comunica AI Studio\\app\\output\n"
     ]
    }
   ],
   "source": [
    "from django.conf import settings\n",
    "\n",
    "# Accedir a les rutes configurades a settings.py\n",
    "TEMPLATE_DIR = settings.TEMPLATE_DIR\n",
    "IMAGES_DIR = settings.IMAGES_DIR\n",
    "IMAGES_JSON = settings.IMAGES_JSON\n",
    "HTML_OUTPUT = settings.HTML_OUTPUT\n",
    "\n",
    "print(\"Ruta plantilles:\", TEMPLATE_DIR)\n",
    "print(\"Ruta imatges:\", IMAGES_DIR)\n",
    "print(\"Fitxer imatges JSON:\", IMAGES_JSON)\n",
    "print(\"Ruta de sortida HTML:\", HTML_OUTPUT)\n"
   ]
  },
  {
   "cell_type": "code",
   "execution_count": 3,
   "id": "b9d39c49",
   "metadata": {},
   "outputs": [
    {
     "name": "stdout",
     "output_type": "stream",
     "text": [
      "Ruta plantilles: C:\\Python Projects\\Comunica AI Studio\\app\\input\\templates\n",
      "Ruta imatges: C:\\Python Projects\\Comunica AI Studio\\app\\input\\images\n",
      "Fitxer imatges JSON: C:\\Python Projects\\Comunica AI Studio\\app\\input\\images.json\n",
      "Ruta de sortida HTML: C:\\Python Projects\\Comunica AI Studio\\app\\output\n",
      "🔄 Generant contingut amb Groq...\n",
      "📝 Generant contingut amb el prompt:\n",
      "Ets un expert en consells pràctics i has de generar contingut per una comunicació HTML amb diversos consells útils. El contingut ha de ser directe, fàcil de llegir i orientat a l'aplicació pràctica dels consells.\n",
      "\n",
      "Genera el contingut seguint aquests requeriments específics per la plantilla 'tips.html':\n",
      "Retorna un JSON vàlid amb els següents camps:\n",
      "{\n",
      "title: Títol general dels consells,\n",
      "tip_1_titol: Títol del primer consell,\n",
      "tip_1_contingut: Contingut del primer consell,\n",
      "tip_2_titol: Títol del segon consell,\n",
      "tip_2_contingut: Contingut del segon consell,\n",
      "tip_3_titol: Títol del tercer consell (opcional),\n",
      "tip_3_contingut: Contingut del tercer consell (opcional)\n",
      "}\n",
      "\n",
      "No afegeixis cap explicació ni text fora del JSON.\n",
      "\n",
      "El prompt base és:\n",
      "Genera contingut per una oferta especial de llançament d'un nou producte tecnològic.\n",
      "\n",
      "Clau API carregada correctament.\n",
      "📄 Carregant plantilla...\n",
      "🔍 Carregant plantilla des de: C:\\Python Projects\\Comunica AI Studio\\app\\input\\templates\\tips.html\n",
      "🧠 Renderitzant plantilla amb contingut...\n",
      "✅ HTML generat i guardat a: C:\\Python Projects\\Comunica AI Studio\\app\\output\\oferta_especial.html\n"
     ]
    }
   ],
   "source": [
    "from app.scripts.generate_html import main\n",
    "\n",
    "main(\n",
    "    prompt=\"Genera contingut per una oferta especial de llançament d'un nou producte tecnològic.\",\n",
    "    template_name=\"tips.html\",\n",
    "    name_html=\"oferta_especial\"\n",
    ")"
   ]
  }
 ],
 "metadata": {
  "kernelspec": {
   "display_name": ".venv",
   "language": "python",
   "name": "python3"
  },
  "language_info": {
   "codemirror_mode": {
    "name": "ipython",
    "version": 3
   },
   "file_extension": ".py",
   "mimetype": "text/x-python",
   "name": "python",
   "nbconvert_exporter": "python",
   "pygments_lexer": "ipython3",
   "version": "3.11.4"
  }
 },
 "nbformat": 4,
 "nbformat_minor": 5
}
